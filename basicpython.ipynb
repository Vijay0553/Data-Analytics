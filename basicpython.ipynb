{
  "nbformat": 4,
  "nbformat_minor": 0,
  "metadata": {
    "colab": {
      "provenance": [],
      "authorship_tag": "ABX9TyPVPIybhJ36FVjVtKfja5Ik",
      "include_colab_link": true
    },
    "kernelspec": {
      "name": "python3",
      "display_name": "Python 3"
    },
    "language_info": {
      "name": "python"
    }
  },
  "cells": [
    {
      "cell_type": "markdown",
      "metadata": {
        "id": "view-in-github",
        "colab_type": "text"
      },
      "source": [
        "<a href=\"https://colab.research.google.com/github/Vijay0553/Data-Analytics/blob/main/basicpython.ipynb\" target=\"_parent\"><img src=\"https://colab.research.google.com/assets/colab-badge.svg\" alt=\"Open In Colab\"/></a>"
      ]
    },
    {
      "cell_type": "code",
      "execution_count": 1,
      "metadata": {
        "colab": {
          "base_uri": "https://localhost:8080/"
        },
        "id": "HRmG15vt7bjS",
        "outputId": "b5f86e4b-252d-41c8-c034-6a2f2886f83f"
      },
      "outputs": [
        {
          "output_type": "stream",
          "name": "stdout",
          "text": [
            "Python version\n",
            "3.11.12 (main, Apr  9 2025, 08:55:54) [GCC 11.4.0]\n",
            "Version info.\n",
            "sys.version_info(major=3, minor=11, micro=12, releaselevel='final', serial=0)\n"
          ]
        }
      ],
      "source": [
        "import sys\n",
        "print(\"Python version\")\n",
        "print(sys.version)\n",
        "print(\"Version info.\")\n",
        "print(sys.version_info)\n"
      ]
    },
    {
      "cell_type": "code",
      "source": [
        "import datetime\n",
        "now =datetime.datetime.now()\n",
        "print(\"Current date and time : \")\n",
        "print(now.strftime(\"%Y-%m-%d %H:%M:%S\"))\n"
      ],
      "metadata": {
        "colab": {
          "base_uri": "https://localhost:8080/"
        },
        "id": "P8DM39oJ7vSf",
        "outputId": "89b2d722-d2e9-43e0-8864-6b4d973d4893"
      },
      "execution_count": 3,
      "outputs": [
        {
          "output_type": "stream",
          "name": "stdout",
          "text": [
            "Current date and time : \n",
            "2025-05-21 17:42:07\n"
          ]
        }
      ]
    },
    {
      "cell_type": "code",
      "source": [
        "from math import pi\n",
        "r =float(input(\"Input the radius of the circle : \"))\n",
        "print(\"The area of the circle with radius \"+str(r)+\" is: \"+str(pi * r**2))\n",
        "\n"
      ],
      "metadata": {
        "colab": {
          "base_uri": "https://localhost:8080/"
        },
        "id": "QHpvr1_j71fF",
        "outputId": "a4c1b51e-458a-47bc-ecb9-71b84a59cb1e"
      },
      "execution_count": 6,
      "outputs": [
        {
          "output_type": "stream",
          "name": "stdout",
          "text": [
            "Input the radius of the circle : 25\n",
            "The area of the circle with radius 25.0 is: 1963.4954084936207\n"
          ]
        }
      ]
    },
    {
      "cell_type": "code",
      "source": [
        "fname=input(\"Input your First Name : \")\n",
        "lname=input(\"Input your Last Name : \")\n",
        "print(\"Hello  \"+fname+\" \"+lname)\n"
      ],
      "metadata": {
        "colab": {
          "base_uri": "https://localhost:8080/"
        },
        "id": "yHPM1DdD9HFS",
        "outputId": "3119c86c-78b2-4def-edd3-f41052d9931b"
      },
      "execution_count": 13,
      "outputs": [
        {
          "output_type": "stream",
          "name": "stdout",
          "text": [
            "Input your First Name : vijay\n",
            "Input your Last Name : ms\n",
            "Hello  vijay ms\n"
          ]
        }
      ]
    },
    {
      "cell_type": "code",
      "source": [
        "values = input(\"Input some comma separated numbers : \")\n",
        "list1 = values.split(\",\")\n",
        "tuple1 = tuple(list1)\n",
        "print('List : ',list1)\n",
        "print ('Tuple : ',tuple1)\n"
      ],
      "metadata": {
        "colab": {
          "base_uri": "https://localhost:8080/"
        },
        "id": "oO9n2R5N9fKb",
        "outputId": "15eeadd5-fa21-4de9-e164-3fb3d2d9408b"
      },
      "execution_count": 15,
      "outputs": [
        {
          "output_type": "stream",
          "name": "stdout",
          "text": [
            "Input some comma separated numbers : 1 2 3 4 5 6 7 8 9\n",
            "List :  ['1 2 3 4 5 6 7 8 9']\n",
            "Tuple :  ('1 2 3 4 5 6 7 8 9',)\n"
          ]
        }
      ]
    },
    {
      "cell_type": "code",
      "source": [
        "txt = \"hello, my name is vijay, I am from USA\"\n",
        "x = txt.split(\", \")\n",
        "print(x)\n",
        "txt = \"apple#banana#cherry#orange\"\n",
        "x = txt.split(\"#\", 1)\n",
        "print(x)\n",
        "\n",
        "\n"
      ],
      "metadata": {
        "colab": {
          "base_uri": "https://localhost:8080/"
        },
        "id": "_E_PJ-BP-iaY",
        "outputId": "5a94f10e-4421-48ef-b7d9-27c37ac4a791"
      },
      "execution_count": 16,
      "outputs": [
        {
          "output_type": "stream",
          "name": "stdout",
          "text": [
            "['hello', 'my name is vijay', 'I am from USA']\n",
            "['apple', 'banana#cherry#orange']\n"
          ]
        }
      ]
    },
    {
      "cell_type": "code",
      "source": [
        "filename =input(\"Input the Filename: \")\n",
        "f_extns=filename.split(\".\")\n",
        "print(\"The extension of the file is : \"+repr(f_extns[-1]))\n"
      ],
      "metadata": {
        "colab": {
          "base_uri": "https://localhost:8080/"
        },
        "id": "k6ZDUfLX_FP_",
        "outputId": "d5f69ca0-0f57-4350-8e11-dfd3201cdd2c"
      },
      "execution_count": 17,
      "outputs": [
        {
          "output_type": "stream",
          "name": "stdout",
          "text": [
            "Input the Filename: jack\n",
            "The extension of the file is : 'jack'\n"
          ]
        }
      ]
    },
    {
      "cell_type": "code",
      "source": [
        "import datetime\n",
        "today = datetime.datetime.now()\n",
        "print (today)\n",
        "print (str(today))\n",
        "print (repr(today))\n"
      ],
      "metadata": {
        "colab": {
          "base_uri": "https://localhost:8080/"
        },
        "id": "fE0fblR2_Ma8",
        "outputId": "010ca3b2-95de-4add-a41d-336a01ce587e"
      },
      "execution_count": 18,
      "outputs": [
        {
          "output_type": "stream",
          "name": "stdout",
          "text": [
            "2025-05-21 17:56:34.942196\n",
            "2025-05-21 17:56:34.942196\n",
            "datetime.datetime(2025, 5, 21, 17, 56, 34, 942196)\n"
          ]
        }
      ]
    },
    {
      "cell_type": "code",
      "source": [
        "color_list = [\"Red\",\"Green\",\"White\" ,\"Black\"]\n",
        "\n",
        "color_list=[\"Red\",\"Green\",\"White\",\"Black\"]\n",
        "print(\"%s %s\"%(color_list[0],color_list[-1]))\n",
        "print(\"%s %s\"%(color_list[0],color_list[-2]))\n",
        "print(\"%s %s\"%(color_list[2],color_list[-1]))\n"
      ],
      "metadata": {
        "colab": {
          "base_uri": "https://localhost:8080/"
        },
        "id": "xAALj9Jm_YIz",
        "outputId": "85cf1093-9105-4731-853c-7dfc4188ae2a"
      },
      "execution_count": 21,
      "outputs": [
        {
          "output_type": "stream",
          "name": "stdout",
          "text": [
            "Red Black\n",
            "Red White\n",
            "White Black\n"
          ]
        }
      ]
    },
    {
      "cell_type": "code",
      "source": [
        "a =int(input(\"Input an integer : \"))\n",
        "n1 =int(\"%s\"% a )\n",
        "n2 =int(\"%s%s\"%(a,a))\n",
        "n3 =int(\"%s%s%s\"%(a,a,a))\n",
        "print(n1+n2+n3)\n",
        "\n"
      ],
      "metadata": {
        "colab": {
          "base_uri": "https://localhost:8080/"
        },
        "id": "RYEDThdv_nck",
        "outputId": "c269cb98-2257-4f67-94a6-018a1796e751"
      },
      "execution_count": 22,
      "outputs": [
        {
          "output_type": "stream",
          "name": "stdout",
          "text": [
            "Input an integer : 25\n",
            "255075\n"
          ]
        }
      ]
    },
    {
      "cell_type": "code",
      "source": [
        "pi =3.1415926535897931\n",
        "r=6.0\n",
        "V=4.0/3.0*pi* r**3\n",
        "print('The volume of the sphere is: ',V)\n"
      ],
      "metadata": {
        "colab": {
          "base_uri": "https://localhost:8080/"
        },
        "id": "GVJoTdbG_83C",
        "outputId": "d3b6a456-5a22-411b-9a8d-64ecb4c302be"
      },
      "execution_count": 23,
      "outputs": [
        {
          "output_type": "stream",
          "name": "stdout",
          "text": [
            "The volume of the sphere is:  904.7786842338603\n"
          ]
        }
      ]
    },
    {
      "cell_type": "code",
      "source": [
        "time =float(input(\"Input time in seconds: \"))\n",
        "day = time //(24*3600)\n",
        "time = time %(24*3600)\n",
        "hour = time //3600\n",
        "time %=3600\n",
        "minutes = time //60\n",
        "time %=60\n",
        "seconds = time\n",
        "print(\"d:h:m:s-> %d days :%d hours:%d minutes:%d seconds\" % (day, hour, minutes, seconds))\n",
        "\n"
      ],
      "metadata": {
        "colab": {
          "base_uri": "https://localhost:8080/"
        },
        "id": "G7DkwWkhAVFE",
        "outputId": "c8c6a6fd-3465-4f60-958d-8213ef5258f7"
      },
      "execution_count": 27,
      "outputs": [
        {
          "output_type": "stream",
          "name": "stdout",
          "text": [
            "Input time in seconds: 485\n",
            "d:h:m:s-> 0 days :0 hours:8 minutes:5 seconds\n"
          ]
        }
      ]
    },
    {
      "cell_type": "code",
      "source": [],
      "metadata": {
        "id": "0Gv9Z3ILAYf-"
      },
      "execution_count": 26,
      "outputs": []
    }
  ]
}